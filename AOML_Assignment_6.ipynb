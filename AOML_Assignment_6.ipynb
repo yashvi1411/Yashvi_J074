{
  "cells": [
    {
      "cell_type": "code",
      "execution_count": null,
      "id": "975fc078",
      "metadata": {
        "id": "975fc078"
      },
      "outputs": [],
      "source": [
        "import numpy as np\n",
        "import matplotlib.pyplot as plt\n",
        "from sklearn.svm import SVC\n",
        "from sklearn.model_selection import train_test_split, GridSearchCV\n",
        "from sklearn.metrics import accuracy_score\n",
        "from tensorflow.keras.datasets import fashion_mnist\n"
      ]
    },
    {
      "cell_type": "code",
      "execution_count": null,
      "id": "31b21129",
      "metadata": {
        "id": "31b21129"
      },
      "outputs": [],
      "source": [
        "(X_train, y_train), (X_test, y_test) = fashion_mnist.load_data()\n"
      ]
    },
    {
      "cell_type": "code",
      "execution_count": null,
      "id": "fd4f380e",
      "metadata": {
        "id": "fd4f380e"
      },
      "outputs": [],
      "source": [
        "X_train = X_train.reshape(X_train.shape[0], -1) / 255.0\n",
        "X_test = X_test.reshape(X_test.shape[0], -1) / 255.0"
      ]
    },
    {
      "cell_type": "code",
      "execution_count": null,
      "id": "659b66bc",
      "metadata": {
        "id": "659b66bc"
      },
      "outputs": [],
      "source": [
        "subset_size = 0.1\n",
        "X_train_sub, _, y_train_sub, _ = train_test_split(X_train, y_train, train_size=subset_size, stratify=y_train, random_state=42)\n",
        "X_test_sub, _, y_test_sub, _ = train_test_split(X_test, y_test, train_size=subset_size, stratify=y_test, random_state=42)"
      ]
    },
    {
      "cell_type": "code",
      "execution_count": null,
      "id": "39aac4b4",
      "metadata": {
        "id": "39aac4b4",
        "outputId": "0b20d44d-a969-4d3b-d282-89736c6e352b"
      },
      "outputs": [
        {
          "name": "stdout",
          "output_type": "stream",
          "text": [
            "Fitting 3 folds for each of 4 candidates, totalling 12 fits\n",
            "Best C for linear kernel: {'C': 0.1}\n",
            "Accuracy (Linear Kernel): 0.841\n"
          ]
        }
      ],
      "source": [
        "param_grid_linear = {'C': [0.1, 1, 10, 100]}\n",
        "svm_linear = GridSearchCV(SVC(kernel='linear'), param_grid_linear, cv=3, n_jobs=-1, verbose=2)\n",
        "svm_linear.fit(X_train_sub, y_train_sub)\n",
        "print(\"Best C for linear kernel:\", svm_linear.best_params_)\n",
        "y_pred_linear = svm_linear.best_estimator_.predict(X_test_sub)\n",
        "print(\"Accuracy (Linear Kernel):\", accuracy_score(y_test_sub, y_pred_linear))"
      ]
    },
    {
      "cell_type": "code",
      "execution_count": null,
      "id": "fecbca7b",
      "metadata": {
        "id": "fecbca7b",
        "outputId": "8dc14b39-e1ea-4e0a-a057-02527686e441"
      },
      "outputs": [
        {
          "name": "stdout",
          "output_type": "stream",
          "text": [
            "Fitting 3 folds for each of 12 candidates, totalling 36 fits\n",
            "Best params for polynomial kernel: {'C': 10, 'degree': 2}\n",
            "Accuracy (Polynomial Kernel): 0.847\n"
          ]
        }
      ],
      "source": [
        "param_grid_poly = {'C': [0.1, 1, 10], 'degree': [2, 3, 4, 5]}\n",
        "svm_poly = GridSearchCV(SVC(kernel='poly'), param_grid_poly, cv=3, n_jobs=-1, verbose=2)\n",
        "svm_poly.fit(X_train_sub, y_train_sub)\n",
        "print(\"Best params for polynomial kernel:\", svm_poly.best_params_)\n",
        "y_pred_poly = svm_poly.best_estimator_.predict(X_test_sub)\n",
        "print(\"Accuracy (Polynomial Kernel):\", accuracy_score(y_test_sub, y_pred_poly))"
      ]
    },
    {
      "cell_type": "code",
      "execution_count": null,
      "id": "12b03233",
      "metadata": {
        "id": "12b03233",
        "outputId": "3bb628d1-1879-4703-ff2e-3fdf225828e1"
      },
      "outputs": [
        {
          "name": "stdout",
          "output_type": "stream",
          "text": [
            "Fitting 3 folds for each of 20 candidates, totalling 60 fits\n",
            "Best params for RBF kernel: {'C': 10, 'gamma': 0.01}\n",
            "Accuracy (RBF Kernel): 0.875\n",
            "[CV] END ...............................................C=10; total time=   4.2s\n",
            "[CV] END ....................................C=0.1, degree=4; total time=   7.2s\n",
            "[CV] END ......................................C=1, degree=4; total time=   5.1s\n",
            "[CV] END .....................................C=10, degree=2; total time=   4.3s\n",
            "[CV] END .....................................C=10, degree=4; total time=   3.4s\n",
            "[CV] END .................................C=0.1, gamma=scale; total time=   9.8s\n",
            "[CV] END ...................................C=0.1, gamma=0.1; total time=  20.5s\n",
            "[CV] END ..................................C=10, gamma=scale; total time=   6.1s\n",
            "[CV] END ...................................C=10, gamma=auto; total time=   5.1s\n",
            "[CV] END ...................................C=10, gamma=0.01; total time=   6.1s\n",
            "[CV] END .................................C=100, gamma=scale; total time=   6.2s\n",
            "[CV] END ..................................C=100, gamma=auto; total time=   4.8s\n",
            "[CV] END ..................................C=100, gamma=0.01; total time=   6.3s\n",
            "[CV] END ...............................................C=10; total time=   3.6s\n",
            "[CV] END ..............................................C=100; total time=   2.7s\n",
            "[CV] END ....................................C=0.1, degree=4; total time=   7.2s\n",
            "[CV] END ......................................C=1, degree=4; total time=   5.3s\n",
            "[CV] END .....................................C=10, degree=3; total time=   4.2s\n",
            "[CV] END .....................................C=10, degree=5; total time=   3.5s\n",
            "[CV] END ..................................C=0.1, gamma=0.01; total time=   9.9s\n",
            "[CV] END ...................................C=1, gamma=scale; total time=   6.5s\n",
            "[CV] END ....................................C=1, gamma=auto; total time=   7.6s\n",
            "[CV] END .....................................C=1, gamma=0.1; total time=  19.6s\n",
            "[CV] END ......................................C=10, gamma=1; total time=  21.5s\n",
            "[CV] END ................................................C=1; total time=   3.9s\n",
            "[CV] END ....................................C=0.1, degree=2; total time=   7.1s\n",
            "[CV] END ......................................C=1, degree=2; total time=   4.8s\n",
            "[CV] END ......................................C=1, degree=5; total time=   5.6s\n",
            "[CV] END .....................................C=10, degree=5; total time=   3.2s\n",
            "[CV] END ...................................C=0.1, gamma=0.1; total time=  20.6s\n",
            "[CV] END ....................................C=1, gamma=0.01; total time=   6.2s\n",
            "[CV] END .....................................C=1, gamma=0.1; total time=  19.5s\n",
            "[CV] END ......................................C=10, gamma=1; total time=  20.8s\n",
            "[CV] END ..............................................C=0.1; total time=   3.6s\n",
            "[CV] END ....................................C=0.1, degree=2; total time=   7.2s\n",
            "[CV] END ......................................C=1, degree=3; total time=   4.9s\n",
            "[CV] END .....................................C=10, degree=2; total time=   4.0s\n",
            "[CV] END .....................................C=10, degree=4; total time=   3.5s\n",
            "[CV] END ..................................C=0.1, gamma=auto; total time=  14.4s\n",
            "[CV] END ...................................C=1, gamma=scale; total time=   6.2s\n",
            "[CV] END ....................................C=1, gamma=0.01; total time=   6.4s\n",
            "[CV] END .....................................C=1, gamma=0.1; total time=  19.5s\n",
            "[CV] END ......................................C=10, gamma=1; total time=  20.9s\n",
            "[CV] END ................................................C=1; total time=   3.7s\n",
            "[CV] END ....................................C=0.1, degree=3; total time=   7.0s\n",
            "[CV] END ....................................C=0.1, degree=5; total time=   7.3s\n",
            "[CV] END .....................................C=10, degree=3; total time=   4.1s\n",
            "[CV] END ..................................C=0.1, gamma=auto; total time=  14.4s\n",
            "[CV] END ...................................C=1, gamma=scale; total time=   6.1s\n",
            "[CV] END ....................................C=1, gamma=auto; total time=   7.7s\n",
            "[CV] END .......................................C=1, gamma=1; total time=  21.5s\n",
            "[CV] END .................................C=100, gamma=scale; total time=   5.9s\n",
            "[CV] END ..................................C=100, gamma=auto; total time=   4.8s\n",
            "[CV] END ...................................C=100, gamma=0.1; total time=  15.4s\n",
            "[CV] END ..............................................C=0.1; total time=   3.9s\n",
            "[CV] END ....................................C=0.1, degree=3; total time=   7.1s\n",
            "[CV] END ......................................C=1, degree=2; total time=   4.7s\n",
            "[CV] END ......................................C=1, degree=4; total time=   5.5s\n",
            "[CV] END .....................................C=10, degree=5; total time=   3.2s\n",
            "[CV] END ..................................C=0.1, gamma=0.01; total time=   9.9s\n",
            "[CV] END .....................................C=0.1, gamma=1; total time=  21.3s\n",
            "[CV] END ...................................C=10, gamma=auto; total time=   5.4s\n",
            "[CV] END ...................................C=10, gamma=auto; total time=   5.2s\n",
            "[CV] END ....................................C=10, gamma=0.1; total time=  19.9s\n",
            "[CV] END ...................................C=100, gamma=0.1; total time=  14.9s\n",
            "[CV] END ..............................................C=0.1; total time=   3.5s\n",
            "[CV] END ..............................................C=100; total time=   2.6s\n",
            "[CV] END ....................................C=0.1, degree=3; total time=   7.0s\n",
            "[CV] END ....................................C=0.1, degree=5; total time=   7.2s\n",
            "[CV] END .....................................C=10, degree=3; total time=   4.0s\n",
            "[CV] END ..................................C=0.1, gamma=auto; total time=  14.5s\n",
            "[CV] END ....................................C=1, gamma=auto; total time=   7.5s\n",
            "[CV] END ....................................C=1, gamma=0.01; total time=   6.4s\n",
            "[CV] END .......................................C=1, gamma=1; total time=  21.5s\n",
            "[CV] END .................................C=100, gamma=scale; total time=   6.3s\n",
            "[CV] END ..................................C=100, gamma=0.01; total time=   6.1s\n",
            "[CV] END ...................................C=100, gamma=0.1; total time=  14.7s\n",
            "[CV] END ...............................................C=10; total time=   3.9s\n",
            "[CV] END ....................................C=0.1, degree=5; total time=   7.1s\n",
            "[CV] END ......................................C=1, degree=3; total time=   5.0s\n",
            "[CV] END .....................................C=10, degree=2; total time=   4.2s\n",
            "[CV] END .....................................C=10, degree=4; total time=   3.3s\n",
            "[CV] END .................................C=0.1, gamma=scale; total time=   9.8s\n",
            "[CV] END .....................................C=0.1, gamma=1; total time=  21.4s\n",
            "[CV] END ..................................C=10, gamma=scale; total time=   6.0s\n",
            "[CV] END ...................................C=10, gamma=0.01; total time=   5.7s\n",
            "[CV] END ....................................C=10, gamma=0.1; total time=  19.5s\n",
            "[CV] END .....................................C=100, gamma=1; total time=  15.8s\n",
            "[CV] END ................................................C=1; total time=   3.8s\n",
            "[CV] END ....................................C=0.1, degree=2; total time=   7.2s\n",
            "[CV] END ......................................C=1, degree=3; total time=   4.9s\n",
            "[CV] END ......................................C=1, degree=5; total time=   5.7s\n",
            "[CV] END ..................................C=0.1, gamma=0.01; total time=   9.7s\n",
            "[CV] END ...................................C=0.1, gamma=0.1; total time=  20.5s\n",
            "[CV] END .......................................C=1, gamma=1; total time=  21.5s\n",
            "[CV] END ..................................C=100, gamma=auto; total time=   5.1s\n",
            "[CV] END ..................................C=100, gamma=0.01; total time=   5.8s\n",
            "[CV] END .....................................C=100, gamma=1; total time=  15.7s\n",
            "[CV] END ..............................................C=100; total time=   4.0s\n",
            "[CV] END ....................................C=0.1, degree=4; total time=   7.1s\n",
            "[CV] END ......................................C=1, degree=2; total time=   4.7s\n",
            "[CV] END ......................................C=1, degree=5; total time=   5.8s\n",
            "[CV] END .................................C=0.1, gamma=scale; total time=   9.8s\n",
            "[CV] END .....................................C=0.1, gamma=1; total time=  21.4s\n",
            "[CV] END ..................................C=10, gamma=scale; total time=   5.9s\n",
            "[CV] END ...................................C=10, gamma=0.01; total time=   5.9s\n",
            "[CV] END ....................................C=10, gamma=0.1; total time=  19.5s\n",
            "[CV] END .....................................C=100, gamma=1; total time=  15.8s\n"
          ]
        }
      ],
      "source": [
        "param_grid_rbf = {'C': [0.1, 1, 10, 100], 'gamma': ['scale', 'auto', 0.01, 0.1, 1]}\n",
        "svm_rbf = GridSearchCV(SVC(kernel='rbf'), param_grid_rbf, cv=3, n_jobs=-1, verbose=2)\n",
        "svm_rbf.fit(X_train_sub, y_train_sub)\n",
        "print(\"Best params for RBF kernel:\", svm_rbf.best_params_)\n",
        "y_pred_rbf = svm_rbf.best_estimator_.predict(X_test_sub)\n",
        "print(\"Accuracy (RBF Kernel):\", accuracy_score(y_test_sub, y_pred_rbf))"
      ]
    }
  ],
  "metadata": {
    "kernelspec": {
      "display_name": "Python 3 (ipykernel)",
      "language": "python",
      "name": "python3"
    },
    "language_info": {
      "codemirror_mode": {
        "name": "ipython",
        "version": 3
      },
      "file_extension": ".py",
      "mimetype": "text/x-python",
      "name": "python",
      "nbconvert_exporter": "python",
      "pygments_lexer": "ipython3",
      "version": "3.11.5"
    },
    "colab": {
      "provenance": []
    }
  },
  "nbformat": 4,
  "nbformat_minor": 5
}