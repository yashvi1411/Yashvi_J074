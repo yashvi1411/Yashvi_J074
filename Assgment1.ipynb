{
  "nbformat": 4,
  "nbformat_minor": 0,
  "metadata": {
    "colab": {
      "provenance": []
    },
    "kernelspec": {
      "name": "python3",
      "display_name": "Python 3"
    },
    "language_info": {
      "name": "python"
    }
  },
  "cells": [
    {
      "cell_type": "code",
      "execution_count": 2,
      "metadata": {
        "id": "3GZR27Ia84OA"
      },
      "outputs": [],
      "source": [
        "import pandas as pd\n",
        "import numpy as np\n",
        "from sklearn.model_selection import train_test_split\n",
        "from sklearn.preprocessing import StandardScaler, OneHotEncoder\n",
        "from sklearn.neighbors import KNeighborsClassifier\n",
        "from sklearn.tree import DecisionTreeClassifier\n",
        "from sklearn.pipeline import Pipeline\n",
        "from sklearn.compose import ColumnTransformer\n",
        "from sklearn.metrics import f1_score\n",
        "import joblib\n",
        "\n",
        "# Load dataset\n",
        "data = pd.read_csv(\"diabetes.csv\")"
      ]
    },
    {
      "cell_type": "code",
      "source": [
        "# Define BMI categories\n",
        "def categorize_bmi(bmi):\n",
        "    if bmi < 18.5:\n",
        "        return \"Underweight\"\n",
        "    elif 18.5 <= bmi < 24.9:\n",
        "        return \"Normal\"\n",
        "    elif 25 <= bmi < 29.9:\n",
        "        return \"Overweight\"\n",
        "    else:\n",
        "        return \"Obese\"\n",
        "\n",
        "data['BMI_category'] = data['BMI'].apply(categorize_bmi)\n",
        "\n",
        "# Splitting data into train and validation sets\n",
        "train_data, val_data = train_test_split(data, test_size=0.2, random_state=42, stratify=data['Outcome'])\n",
        "\n",
        "# Identifying numerical and categorical columns\n",
        "num_features = ['Pregnancies', 'Glucose', 'BloodPressure', 'SkinThickness', 'Insulin', 'BMI', 'DiabetesPedigreeFunction', 'Age']\n",
        "cat_features = ['BMI_category']\n",
        "\n",
        "# Preprocessing Pipelines\n",
        "num_pipeline = StandardScaler()\n",
        "cat_pipeline = OneHotEncoder()\n",
        "\n",
        "preprocessor = ColumnTransformer([\n",
        "    ('num', num_pipeline, num_features),\n",
        "    ('cat', cat_pipeline, cat_features)\n",
        "])"
      ],
      "metadata": {
        "id": "zFJrRV3d89Ak"
      },
      "execution_count": 3,
      "outputs": []
    },
    {
      "cell_type": "code",
      "source": [
        "# Transforming data\n",
        "X_train = preprocessor.fit_transform(train_data)\n",
        "X_val = preprocessor.transform(val_data)\n",
        "y_train = train_data['Outcome']\n",
        "y_val = val_data['Outcome']\n",
        "\n",
        "# Experiment with KNN classifier\n",
        "best_knn, best_knn_f1 = None, 0\n",
        "for k in [3, 5, 7]:\n",
        "    knn = KNeighborsClassifier(n_neighbors=k)\n",
        "    knn.fit(X_train, y_train)\n",
        "    y_pred = knn.predict(X_val)\n",
        "    f1 = f1_score(y_val, y_pred)\n",
        "    if f1 > best_knn_f1:\n",
        "        best_knn_f1 = f1\n",
        "        best_knn = knn\n",
        "\n",
        "# Experiment with Decision Tree classifier\n",
        "best_dt, best_dt_f1 = None, 0\n",
        "for depth in [3, 5, 7]:\n",
        "    dt = DecisionTreeClassifier(max_depth=depth, random_state=42)\n",
        "    dt.fit(X_train, y_train)\n",
        "    y_pred = dt.predict(X_val)\n",
        "    f1 = f1_score(y_val, y_pred)\n",
        "    if f1 > best_dt_f1:\n",
        "        best_dt_f1 = f1\n",
        "        best_dt = dt\n",
        "\n",
        "# Selecting best model\n",
        "best_model = best_knn if best_knn_f1 > best_dt_f1 else best_dt\n",
        "\n",
        "# Save models and transformers\n",
        "joblib.dump(preprocessor, \"preprocessor.pkl\")\n",
        "joblib.dump(best_model, \"best_model.pkl\")\n",
        "\n",
        "# Inference function\n",
        "def predict_sample(sample):\n",
        "    preprocessor = joblib.load(\"preprocessor.pkl\")\n",
        "    model = joblib.load(\"best_model.pkl\")\n",
        "    sample_transformed = preprocessor.transform(sample)\n",
        "    prediction = model.predict(sample_transformed)\n",
        "    return prediction\n",
        "# Test inference on 5 samples\n",
        "samples = val_data.sample(5, random_state=42).drop(columns=['Outcome'])\n",
        "predictions = predict_sample(samples)\n",
        "print(\"Predictions:\", predictions)\n"
      ],
      "metadata": {
        "colab": {
          "base_uri": "https://localhost:8080/"
        },
        "id": "lRXJKkHQ9c6c",
        "outputId": "55681981-fe50-4b2e-9116-ed9807848591"
      },
      "execution_count": 4,
      "outputs": [
        {
          "output_type": "stream",
          "name": "stdout",
          "text": [
            "Predictions: [1 1 1 0 0]\n"
          ]
        }
      ]
    },
    {
      "cell_type": "code",
      "source": [
        "# Check predictions against actual values\n",
        "samples = val_data.sample(5, random_state=42).drop(columns=['Outcome'])\n",
        "predictions = predict_sample(samples)\n",
        "actual_values = y_val.loc[samples.index].values\n",
        "\n",
        "print(\"Predictions:\", predictions)\n",
        "print(\"Actual Values:\", actual_values)\n",
        "\n",
        "# Performance evaluation\n",
        "print(\"F1 Score:\", f1_score(y_val, best_model.predict(X_val)))\n",
        "\n"
      ],
      "metadata": {
        "colab": {
          "base_uri": "https://localhost:8080/"
        },
        "id": "mYZ51oSU9pTK",
        "outputId": "c72dca31-fe97-4be8-8d05-c19748513560"
      },
      "execution_count": 6,
      "outputs": [
        {
          "output_type": "stream",
          "name": "stdout",
          "text": [
            "Predictions: [1 1 1 0 0]\n",
            "Actual Values: [1 1 1 0 0]\n",
            "F1 Score: 0.7037037037037037\n"
          ]
        }
      ]
    },
    {
      "cell_type": "code",
      "source": [],
      "metadata": {
        "id": "w4oKQaEz-HMq"
      },
      "execution_count": null,
      "outputs": []
    }
  ]
}