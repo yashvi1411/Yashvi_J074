{
  "nbformat": 4,
  "nbformat_minor": 0,
  "metadata": {
    "colab": {
      "provenance": []
    },
    "kernelspec": {
      "name": "python3",
      "display_name": "Python 3"
    },
    "language_info": {
      "name": "python"
    }
  },
  "cells": [
    {
      "cell_type": "code",
      "execution_count": null,
      "metadata": {
        "colab": {
          "base_uri": "https://localhost:8080/"
        },
        "id": "wWcZ5a5AYjGl",
        "outputId": "bf7f7f50-b3de-41eb-eadf-0201715d42d3"
      },
      "outputs": [
        {
          "output_type": "stream",
          "name": "stdout",
          "text": [
            "Requirement already satisfied: pandas in /usr/local/lib/python3.11/dist-packages (2.2.2)\n",
            "Requirement already satisfied: numpy in /usr/local/lib/python3.11/dist-packages (1.26.4)\n",
            "Requirement already satisfied: scikit-learn in /usr/local/lib/python3.11/dist-packages (1.6.1)\n",
            "Requirement already satisfied: xgboost in /usr/local/lib/python3.11/dist-packages (2.1.4)\n",
            "Requirement already satisfied: nltk in /usr/local/lib/python3.11/dist-packages (3.9.1)\n",
            "Requirement already satisfied: python-dateutil>=2.8.2 in /usr/local/lib/python3.11/dist-packages (from pandas) (2.8.2)\n",
            "Requirement already satisfied: pytz>=2020.1 in /usr/local/lib/python3.11/dist-packages (from pandas) (2025.1)\n",
            "Requirement already satisfied: tzdata>=2022.7 in /usr/local/lib/python3.11/dist-packages (from pandas) (2025.1)\n",
            "Requirement already satisfied: scipy>=1.6.0 in /usr/local/lib/python3.11/dist-packages (from scikit-learn) (1.13.1)\n",
            "Requirement already satisfied: joblib>=1.2.0 in /usr/local/lib/python3.11/dist-packages (from scikit-learn) (1.4.2)\n",
            "Requirement already satisfied: threadpoolctl>=3.1.0 in /usr/local/lib/python3.11/dist-packages (from scikit-learn) (3.5.0)\n",
            "Requirement already satisfied: nvidia-nccl-cu12 in /usr/local/lib/python3.11/dist-packages (from xgboost) (2.21.5)\n",
            "Requirement already satisfied: click in /usr/local/lib/python3.11/dist-packages (from nltk) (8.1.8)\n",
            "Requirement already satisfied: regex>=2021.8.3 in /usr/local/lib/python3.11/dist-packages (from nltk) (2024.11.6)\n",
            "Requirement already satisfied: tqdm in /usr/local/lib/python3.11/dist-packages (from nltk) (4.67.1)\n",
            "Requirement already satisfied: six>=1.5 in /usr/local/lib/python3.11/dist-packages (from python-dateutil>=2.8.2->pandas) (1.17.0)\n"
          ]
        }
      ],
      "source": [
        "pip install pandas numpy scikit-learn xgboost nltk\n"
      ]
    },
    {
      "cell_type": "code",
      "source": [
        "import pandas as pd\n",
        "import numpy as np\n",
        "import re\n",
        "from sklearn.model_selection import train_test_split\n",
        "from sklearn.naive_bayes import MultinomialNB\n",
        "from sklearn.ensemble import RandomForestClassifier, VotingClassifier\n",
        "from sklearn.feature_extraction.text import CountVectorizer, TfidfVectorizer\n",
        "from sklearn.metrics import accuracy_score\n",
        "from xgboost import XGBClassifier\n",
        "import nltk\n",
        "from nltk.corpus import stopwords"
      ],
      "metadata": {
        "id": "M3CkbzbDYnP1"
      },
      "execution_count": null,
      "outputs": []
    },
    {
      "cell_type": "code",
      "source": [
        "nltk.download('stopwords')\n",
        "stop_words = set(stopwords.words('english'))\n",
        "\n",
        "df = pd.read_csv('spam.csv', encoding='latin-1')\n"
      ],
      "metadata": {
        "colab": {
          "base_uri": "https://localhost:8080/"
        },
        "id": "_bi-2GeKYvZp",
        "outputId": "65324c6b-1e42-413c-8255-cf6032aef093"
      },
      "execution_count": null,
      "outputs": [
        {
          "output_type": "stream",
          "name": "stderr",
          "text": [
            "[nltk_data] Downloading package stopwords to /root/nltk_data...\n",
            "[nltk_data]   Package stopwords is already up-to-date!\n"
          ]
        }
      ]
    },
    {
      "cell_type": "code",
      "source": [
        "def clean_text(text):\n",
        "    text = text.lower()\n",
        "\n",
        "    text = re.sub(r'[^a-z\\s]', '', text)\n",
        "\n",
        "    text = ' '.join([word for word in text.split() if word not in stop_words])\n",
        "\n",
        "    return text"
      ],
      "metadata": {
        "id": "6bVfSzXuY0eZ"
      },
      "execution_count": null,
      "outputs": []
    },
    {
      "cell_type": "code",
      "source": [
        "df['cleaned_text'] = df['v2'].apply(clean_text)\n"
      ],
      "metadata": {
        "id": "6uIKGqRXaT9K"
      },
      "execution_count": null,
      "outputs": []
    },
    {
      "cell_type": "code",
      "source": [
        "def create_features(df, vectorizer_type=\"bow\"):\n",
        "    if vectorizer_type == \"bow\":\n",
        "        vectorizer = CountVectorizer()\n",
        "    else:\n",
        "        vectorizer = TfidfVectorizer()\n",
        "\n",
        "    X = vectorizer.fit_transform(df['cleaned_text'])\n",
        "\n",
        "    return X, vectorizer"
      ],
      "metadata": {
        "id": "kIqeRjonadpL"
      },
      "execution_count": null,
      "outputs": []
    },
    {
      "cell_type": "code",
      "source": [
        "X_clean, _ = create_features(df, vectorizer_type=\"bow\")\n",
        "X_raw, _ = create_features(df, vectorizer_type=\"bow\")\n",
        "X_clean_tfidf, _ = create_features(df, vectorizer_type=\"tfidf\")\n",
        "X_raw_tfidf, _ = create_features(df, vectorizer_type=\"tfidf\")\n",
        "\n",
        "y = df['v1'].apply(lambda x: 1 if x == 'spam' else 0)\n"
      ],
      "metadata": {
        "id": "RLh0XJjtahuL"
      },
      "execution_count": null,
      "outputs": []
    },
    {
      "cell_type": "code",
      "source": [
        "X_train_clean, X_test_clean, y_train, y_test = train_test_split(X_clean, y, test_size=0.2, random_state=42)\n",
        "X_train_raw, X_test_raw = train_test_split(X_raw, test_size=0.2, random_state=42)\n",
        "X_train_clean_tfidf, X_test_clean_tfidf = train_test_split(X_clean_tfidf, test_size=0.2, random_state=42)\n",
        "X_train_raw_tfidf, X_test_raw_tfidf = train_test_split(X_raw_tfidf, test_size=0.2, random_state=42)"
      ],
      "metadata": {
        "id": "QkavyaqkbFlz"
      },
      "execution_count": null,
      "outputs": []
    },
    {
      "cell_type": "code",
      "source": [
        "def train_models(X_train, X_test, y_train, y_test, vectorizer_type=\"bow\"):\n",
        "    print(f\"Training with {vectorizer_type.upper()} features...\\n\")\n",
        "\n",
        "    nb_model = MultinomialNB()\n",
        "    nb_model.fit(X_train, y_train)\n",
        "    nb_pred = nb_model.predict(X_test)\n",
        "    nb_accuracy = accuracy_score(y_test, nb_pred)\n",
        "    print(f\"Naive Bayes accuracy: {nb_accuracy:.4f}\")\n",
        "\n",
        "    rf_model = RandomForestClassifier(n_estimators=100, random_state=42)\n",
        "    rf_model.fit(X_train, y_train)\n",
        "    rf_pred = rf_model.predict(X_test)\n",
        "    rf_accuracy = accuracy_score(y_test, rf_pred)\n",
        "    print(f\"Random Forest accuracy: {rf_accuracy:.4f}\")\n",
        "\n",
        "    xgb_model = XGBClassifier(eval_metric=\"mlogloss\", use_label_encoder=False)\n",
        "    xgb_model.fit(X_train, y_train)\n",
        "    xgb_pred = xgb_model.predict(X_test)\n",
        "    xgb_accuracy = accuracy_score(y_test, xgb_pred)\n",
        "    print(f\"XGBoost accuracy: {xgb_accuracy:.4f}\")\n",
        "\n",
        "    ensemble_model = VotingClassifier(estimators=[('nb', nb_model), ('rf', rf_model), ('xgb', xgb_model)], voting='hard')\n",
        "    ensemble_model.fit(X_train, y_train)\n",
        "    ensemble_pred = ensemble_model.predict(X_test)\n",
        "    ensemble_accuracy = accuracy_score(y_test, ensemble_pred)\n",
        "    print(f\"Ensemble model (Voting Classifier) accuracy: {ensemble_accuracy:.4f}\\n\")\n"
      ],
      "metadata": {
        "id": "qHfGi9icak4K"
      },
      "execution_count": null,
      "outputs": []
    },
    {
      "cell_type": "code",
      "source": [
        "train_models(X_train_clean, X_test_clean, y_train, y_test, vectorizer_type=\"bow\")\n",
        "train_models(X_train_raw, X_test_raw, y_train, y_test, vectorizer_type=\"bow\")\n",
        "train_models(X_train_clean_tfidf, X_test_clean_tfidf, y_train, y_test, vectorizer_type=\"tfidf\")\n",
        "train_models(X_train_raw_tfidf, X_test_raw_tfidf, y_train, y_test, vectorizer_type=\"tfidf\")"
      ],
      "metadata": {
        "colab": {
          "base_uri": "https://localhost:8080/"
        },
        "id": "a6O5FDs_awRq",
        "outputId": "f23b034c-f9c5-4dd9-a7a1-59fb4fb4fa47"
      },
      "execution_count": null,
      "outputs": [
        {
          "output_type": "stream",
          "name": "stdout",
          "text": [
            "Training with BOW features...\n",
            "\n",
            "Naive Bayes accuracy: 0.9677\n",
            "Random Forest accuracy: 0.9722\n"
          ]
        },
        {
          "output_type": "stream",
          "name": "stderr",
          "text": [
            "/usr/local/lib/python3.11/dist-packages/xgboost/core.py:158: UserWarning: [06:24:17] WARNING: /workspace/src/learner.cc:740: \n",
            "Parameters: { \"use_label_encoder\" } are not used.\n",
            "\n",
            "  warnings.warn(smsg, UserWarning)\n"
          ]
        },
        {
          "output_type": "stream",
          "name": "stdout",
          "text": [
            "XGBoost accuracy: 0.9722\n"
          ]
        },
        {
          "output_type": "stream",
          "name": "stderr",
          "text": [
            "/usr/local/lib/python3.11/dist-packages/xgboost/core.py:158: UserWarning: [06:24:24] WARNING: /workspace/src/learner.cc:740: \n",
            "Parameters: { \"use_label_encoder\" } are not used.\n",
            "\n",
            "  warnings.warn(smsg, UserWarning)\n"
          ]
        },
        {
          "output_type": "stream",
          "name": "stdout",
          "text": [
            "Ensemble model (Voting Classifier) accuracy: 0.9785\n",
            "\n",
            "Training with BOW features...\n",
            "\n",
            "Naive Bayes accuracy: 0.9677\n",
            "Random Forest accuracy: 0.9722\n"
          ]
        },
        {
          "output_type": "stream",
          "name": "stderr",
          "text": [
            "/usr/local/lib/python3.11/dist-packages/xgboost/core.py:158: UserWarning: [06:24:30] WARNING: /workspace/src/learner.cc:740: \n",
            "Parameters: { \"use_label_encoder\" } are not used.\n",
            "\n",
            "  warnings.warn(smsg, UserWarning)\n"
          ]
        },
        {
          "output_type": "stream",
          "name": "stdout",
          "text": [
            "XGBoost accuracy: 0.9722\n"
          ]
        },
        {
          "output_type": "stream",
          "name": "stderr",
          "text": [
            "/usr/local/lib/python3.11/dist-packages/xgboost/core.py:158: UserWarning: [06:24:37] WARNING: /workspace/src/learner.cc:740: \n",
            "Parameters: { \"use_label_encoder\" } are not used.\n",
            "\n",
            "  warnings.warn(smsg, UserWarning)\n"
          ]
        },
        {
          "output_type": "stream",
          "name": "stdout",
          "text": [
            "Ensemble model (Voting Classifier) accuracy: 0.9785\n",
            "\n",
            "Training with TFIDF features...\n",
            "\n",
            "Naive Bayes accuracy: 0.9677\n",
            "Random Forest accuracy: 0.9722\n"
          ]
        },
        {
          "output_type": "stream",
          "name": "stderr",
          "text": [
            "/usr/local/lib/python3.11/dist-packages/xgboost/core.py:158: UserWarning: [06:24:45] WARNING: /workspace/src/learner.cc:740: \n",
            "Parameters: { \"use_label_encoder\" } are not used.\n",
            "\n",
            "  warnings.warn(smsg, UserWarning)\n"
          ]
        },
        {
          "output_type": "stream",
          "name": "stdout",
          "text": [
            "XGBoost accuracy: 0.9776\n"
          ]
        },
        {
          "output_type": "stream",
          "name": "stderr",
          "text": [
            "/usr/local/lib/python3.11/dist-packages/xgboost/core.py:158: UserWarning: [06:24:53] WARNING: /workspace/src/learner.cc:740: \n",
            "Parameters: { \"use_label_encoder\" } are not used.\n",
            "\n",
            "  warnings.warn(smsg, UserWarning)\n"
          ]
        },
        {
          "output_type": "stream",
          "name": "stdout",
          "text": [
            "Ensemble model (Voting Classifier) accuracy: 0.9740\n",
            "\n",
            "Training with TFIDF features...\n",
            "\n",
            "Naive Bayes accuracy: 0.9677\n",
            "Random Forest accuracy: 0.9722\n"
          ]
        },
        {
          "output_type": "stream",
          "name": "stderr",
          "text": [
            "/usr/local/lib/python3.11/dist-packages/xgboost/core.py:158: UserWarning: [06:25:01] WARNING: /workspace/src/learner.cc:740: \n",
            "Parameters: { \"use_label_encoder\" } are not used.\n",
            "\n",
            "  warnings.warn(smsg, UserWarning)\n"
          ]
        },
        {
          "output_type": "stream",
          "name": "stdout",
          "text": [
            "XGBoost accuracy: 0.9776\n"
          ]
        },
        {
          "output_type": "stream",
          "name": "stderr",
          "text": [
            "/usr/local/lib/python3.11/dist-packages/xgboost/core.py:158: UserWarning: [06:25:08] WARNING: /workspace/src/learner.cc:740: \n",
            "Parameters: { \"use_label_encoder\" } are not used.\n",
            "\n",
            "  warnings.warn(smsg, UserWarning)\n"
          ]
        },
        {
          "output_type": "stream",
          "name": "stdout",
          "text": [
            "Ensemble model (Voting Classifier) accuracy: 0.9740\n",
            "\n"
          ]
        }
      ]
    },
    {
      "cell_type": "code",
      "source": [],
      "metadata": {
        "id": "yM6oTU1layx7"
      },
      "execution_count": null,
      "outputs": []
    }
  ]
}