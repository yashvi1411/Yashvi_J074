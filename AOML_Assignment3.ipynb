{
  "nbformat": 4,
  "nbformat_minor": 0,
  "metadata": {
    "colab": {
      "provenance": [],
      "gpuType": "V28"
    },
    "kernelspec": {
      "name": "python3",
      "display_name": "Python 3"
    },
    "language_info": {
      "name": "python"
    },
    "accelerator": "TPU"
  },
  "cells": [
    {
      "cell_type": "code",
      "source": [
        "\n",
        "import pandas as pd\n",
        "from sklearn.model_selection import train_test_split\n",
        "from sklearn.preprocessing import StandardScaler\n",
        "from sklearn.impute import SimpleImputer\n",
        "from sklearn.metrics import accuracy_score\n",
        "from lightgbm import LGBMClassifier\n",
        "import category_encoders as ce"
      ],
      "metadata": {
        "id": "wXslBlY79x5g"
      },
      "execution_count": null,
      "outputs": []
    },
    {
      "cell_type": "code",
      "source": [
        "def load_classification_data():\n",
        "    train_df = pd.read_csv(\"train.csv\")\n",
        "    test_df = pd.read_csv(\"test.csv\")\n",
        "    target_col = \"target\" if \"target\" in train_df.columns else train_df.columns[-1]\n",
        "    return train_df, test_df, target_col\n",
        "train_df, test_df, target_col = load_classification_data()\n"
      ],
      "metadata": {
        "id": "j4tOOtfG-3Xu"
      },
      "execution_count": null,
      "outputs": []
    },
    {
      "cell_type": "code",
      "source": [
        "cat_features = train_df.select_dtypes(include=[\"object\", \"category\"]).columns.tolist()\n",
        "num_features = train_df.select_dtypes(include=[\"int64\", \"float64\"]).columns.tolist()\n",
        "num_features.remove(target_col)\n"
      ],
      "metadata": {
        "id": "cq2ZT-JO_Jow"
      },
      "execution_count": null,
      "outputs": []
    },
    {
      "cell_type": "code",
      "source": [
        "imputer = SimpleImputer(strategy=\"most_frequent\")\n",
        "train_df[cat_features] = imputer.fit_transform(train_df[cat_features])\n",
        "test_df[cat_features] = imputer.transform(test_df[cat_features])\n"
      ],
      "metadata": {
        "id": "BuVKszh1_P6G"
      },
      "execution_count": null,
      "outputs": []
    },
    {
      "cell_type": "code",
      "source": [
        "encoder = ce.TargetEncoder(cols=cat_features)\n",
        "train_df[cat_features] = encoder.fit_transform(train_df[cat_features], train_df[target_col])\n",
        "test_df[cat_features] = encoder.transform(test_df[cat_features])\n"
      ],
      "metadata": {
        "id": "qTSZXnyS_SBm"
      },
      "execution_count": null,
      "outputs": []
    },
    {
      "cell_type": "code",
      "source": [
        "scaler = StandardScaler()\n",
        "train_df[num_features] = scaler.fit_transform(train_df[num_features])\n",
        "test_df[num_features] = scaler.transform(test_df[num_features])"
      ],
      "metadata": {
        "id": "TSQcY0Zr_UoM"
      },
      "execution_count": null,
      "outputs": []
    },
    {
      "cell_type": "code",
      "source": [
        "X_train, X_val, y_train, y_val = train_test_split(\n",
        "    train_df.drop(columns=[target_col]), train_df[target_col], test_size=0.2, random_state=42, stratify=train_df[target_col]\n",
        ")"
      ],
      "metadata": {
        "id": "rikiGMTL_YTl"
      },
      "execution_count": null,
      "outputs": []
    },
    {
      "cell_type": "code",
      "source": [
        "param_grid = {\n",
        "    'n_estimators': [100, 200],\n",
        "    'learning_rate': [0.01, 0.1],\n",
        "    'num_leaves': [15, 20],\n",
        "    'max_depth': [-1, 10]\n",
        "}"
      ],
      "metadata": {
        "id": "f4Ni-3kN_asV"
      },
      "execution_count": null,
      "outputs": []
    },
    {
      "cell_type": "code",
      "source": [
        "grid_search = GridSearchCV(LGBMClassifier(random_state=42), param_grid, cv=3, scoring='accuracy', n_jobs=-1, verbose=3)\n",
        "grid_search.fit(X_train, y_train)\n",
        "\n",
        "best_model = grid_search.best_estimator_\n",
        "predictions = best_model.predict(X_val)"
      ],
      "metadata": {
        "colab": {
          "base_uri": "https://localhost:8080/"
        },
        "id": "H0IZBn6e_qfT",
        "outputId": "d611e528-5f6d-436c-d938-9feced5f9de7"
      },
      "execution_count": null,
      "outputs": [
        {
          "output_type": "stream",
          "name": "stdout",
          "text": [
            "Fitting 3 folds for each of 16 candidates, totalling 48 fits\n",
            "[LightGBM] [Info] Number of positive: 89858, number of negative: 390142\n",
            "[LightGBM] [Info] Auto-choosing col-wise multi-threading, the overhead of testing was 0.031611 seconds.\n",
            "You can set `force_col_wise=true` to remove the overhead.\n",
            "[LightGBM] [Info] Total Bins 1789\n",
            "[LightGBM] [Info] Number of data points in the train set: 480000, number of used features: 24\n",
            "[LightGBM] [Info] [binary:BoostFromScore]: pavg=0.187204 -> initscore=-1.468280\n",
            "[LightGBM] [Info] Start training from score -1.468280\n"
          ]
        }
      ]
    },
    {
      "cell_type": "code",
      "source": [
        "accuracy = accuracy_score(y_val, predictions)"
      ],
      "metadata": {
        "id": "xy8JqxkP_wMc"
      },
      "execution_count": null,
      "outputs": []
    },
    {
      "cell_type": "code",
      "source": [
        "accuracy"
      ],
      "metadata": {
        "colab": {
          "base_uri": "https://localhost:8080/"
        },
        "id": "4cf1AGDIEHo7",
        "outputId": "10552a94-7b7e-4c30-be72-c04f4316b18e"
      },
      "execution_count": null,
      "outputs": [
        {
          "output_type": "execute_result",
          "data": {
            "text/plain": [
              "0.827725"
            ]
          },
          "metadata": {},
          "execution_count": 46
        }
      ]
    },
    {
      "cell_type": "code",
      "source": [
        "#Regression\n",
        "import numpy as np\n",
        "import pandas as pd\n",
        "from sklearn.model_selection import train_test_split\n",
        "from sklearn.preprocessing import StandardScaler\n",
        "from xgboost import XGBRegressor\n",
        "\n"
      ],
      "metadata": {
        "id": "YdZKAlS3EI8X"
      },
      "execution_count": null,
      "outputs": []
    },
    {
      "cell_type": "code",
      "source": [
        "train_df = pd.read_csv(\"gemstone_train.csv\")\n"
      ],
      "metadata": {
        "id": "1aRdzedpF39r"
      },
      "execution_count": null,
      "outputs": []
    },
    {
      "cell_type": "code",
      "source": [
        "target_col = \"price\"\n",
        "X_reg = train_df.drop(columns=[target_col])\n",
        "y_reg = train_df[target_col]"
      ],
      "metadata": {
        "id": "R79jMht1F6ag"
      },
      "execution_count": null,
      "outputs": []
    },
    {
      "cell_type": "code",
      "source": [
        "num_cols = X_reg.select_dtypes(include=[\"number\"]).columns\n",
        "cat_cols = X_reg.select_dtypes(exclude=[\"number\"]).columns\n"
      ],
      "metadata": {
        "id": "1QpJXc8fF8y8"
      },
      "execution_count": null,
      "outputs": []
    },
    {
      "cell_type": "code",
      "source": [
        "X_reg[num_cols] = X_reg[num_cols].fillna(X_reg[num_cols].median())\n",
        "X_reg[cat_cols] = X_reg[cat_cols].fillna(X_reg[cat_cols].mode().iloc[0])"
      ],
      "metadata": {
        "id": "Rdmh6ur5HND_"
      },
      "execution_count": null,
      "outputs": []
    },
    {
      "cell_type": "code",
      "source": [
        "X_reg = pd.get_dummies(X_reg, drop_first=True)\n",
        "\n"
      ],
      "metadata": {
        "id": "cmlcMbCRGAb5"
      },
      "execution_count": null,
      "outputs": []
    },
    {
      "cell_type": "code",
      "source": [
        "X_reg[\"sum_features\"] = X_reg[num_cols].sum(axis=1)\n",
        "X_reg[\"mean_features\"] = X_reg[num_cols].mean(axis=1)\n",
        "X_reg[\"std_features\"] = X_reg[num_cols].std(axis=1)\n",
        "X_reg[\"max_min_ratio\"] = X_reg[num_cols].max(axis=1) / (X_reg[num_cols].min(axis=1) + 1e-5)\n",
        "\n"
      ],
      "metadata": {
        "id": "c9dJnwk1GFxs"
      },
      "execution_count": null,
      "outputs": []
    },
    {
      "cell_type": "code",
      "source": [
        "X_train_reg, X_val_reg, y_train_reg, y_val_reg = train_test_split(\n",
        "    X_reg, y_reg, test_size=0.2, random_state=42\n",
        ")\n"
      ],
      "metadata": {
        "id": "y5XjZdN1GRbd"
      },
      "execution_count": null,
      "outputs": []
    },
    {
      "cell_type": "code",
      "source": [
        "scaler = StandardScaler()\n",
        "X_train_reg = scaler.fit_transform(X_train_reg)\n",
        "X_val_reg = scaler.transform(X_val_reg)\n"
      ],
      "metadata": {
        "id": "ALZmhUVFHzcu"
      },
      "execution_count": null,
      "outputs": []
    },
    {
      "cell_type": "code",
      "source": [
        "reg_model = XGBRegressor(objective=\"reg:squarederror\", random_state=42)\n",
        "param_grid = {\n",
        "    \"n_estimators\": [100, 200],\n",
        "    \"learning_rate\": [0.01, 0.1],\n",
        "    \"max_depth\": [3, 7],\n",
        "    \"subsample\": [0.8, 1.0]\n",
        "}\n",
        "grid_search = GridSearchCV(\n",
        "    reg_model, param_grid, cv=3, scoring=\"r2\", verbose=3, n_jobs=-1\n",
        ")\n",
        "grid_search.fit(X_train_reg, y_train_reg)\n",
        "\n",
        "#\n",
        "best_model = grid_search.best_estimator_\n"
      ],
      "metadata": {
        "colab": {
          "base_uri": "https://localhost:8080/"
        },
        "id": "kWbD0iZ1I4xD",
        "outputId": "28aa1dfb-bf5f-4f07-e70e-71452099f252"
      },
      "execution_count": null,
      "outputs": [
        {
          "output_type": "stream",
          "name": "stdout",
          "text": [
            "Fitting 3 folds for each of 16 candidates, totalling 48 fits\n"
          ]
        }
      ]
    },
    {
      "cell_type": "code",
      "source": [
        "r2_score = best_model.score(X_val_reg, y_val_reg)\n",
        "r2_score"
      ],
      "metadata": {
        "colab": {
          "base_uri": "https://localhost:8080/"
        },
        "id": "-GYwnWCnKnSl",
        "outputId": "ad0a7736-c1b7-47ef-c0f8-b34cc62d4b1f"
      },
      "execution_count": null,
      "outputs": [
        {
          "output_type": "execute_result",
          "data": {
            "text/plain": [
              "0.9781777262687683"
            ]
          },
          "metadata": {},
          "execution_count": 83
        }
      ]
    },
    {
      "cell_type": "code",
      "source": [],
      "metadata": {
        "id": "omcjQBWLK2rz"
      },
      "execution_count": null,
      "outputs": []
    }
  ]
}